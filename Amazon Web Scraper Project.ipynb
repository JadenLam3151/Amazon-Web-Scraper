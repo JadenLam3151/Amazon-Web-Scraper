{
 "cells": [
  {
   "cell_type": "code",
   "execution_count": 1,
   "id": "1cd9bd45-2d70-43d7-9ca5-30e0335a1655",
   "metadata": {},
   "outputs": [],
   "source": [
    "# import libraries\n",
    "\n",
    "from bs4 import BeautifulSoup\n",
    "import requests\n",
    "import time\n",
    "import datetime\n",
    "\n",
    "import smtplib"
   ]
  },
  {
   "cell_type": "code",
   "execution_count": 9,
   "id": "d41c899f-b57a-413b-976e-1c6df6ac5bf6",
   "metadata": {},
   "outputs": [
    {
     "name": "stdout",
     "output_type": "stream",
     "text": [
      "\n",
      "             Galton Board, Galton Board with Pascal's Triangle, Galton Board Desk Toy, Dalton/Galton Board Bell Curve Normal Distribution Demonstration of Random Phenomena Experimental Model (Red)\n",
      "            \n",
      "\n",
      "\n",
      "\n",
      "\n",
      "\n",
      "                           $85.99\n",
      "                          \n",
      "\n",
      "\n",
      "                            $\n",
      "                           \n",
      "\n",
      "                            85\n",
      "                            \n",
      "                             .\n",
      "                            \n",
      "\n",
      "\n",
      "                            99\n",
      "                           \n",
      "\n",
      "\n",
      "\n",
      "\n",
      "\n",
      "\n",
      "\n",
      "\n",
      "\n",
      "                          Only 19 left in stock - order soon.\n",
      "                         \n",
      "\n",
      "\n"
     ]
    }
   ],
   "source": [
    "# Connect to Website\n",
    "\n",
    "URL = 'https://www.amazon.com/Triangle-Distribution-Demonstration-Phenomena-Experimental/dp/B0D48M1FP4/ref=sr_1_4?crid=1VWW825AOKWV3&dib=eyJ2IjoiMSJ9.lss_sZSJB6O-eSfER8Pa4myz50eeCKwe2PLnry8Xn_SHqktseH90a0SFtO9lDxXmafMstkAiP-EtAcvORKbCrsFlXFW6el35tZKUi_6780NBF_kmyr7OTBjkD8LcZJtdpwSWLEmnLEFb3fv9etdSr_e-ud5dTMN1LlaH4OXUGAkmRkjKb5VCdjP4jrr3V3FXQK4s_Y_cGqn39-45qBOgDCa0uDYEmt9yXMGKjDBzu5swTEgTV7Pyff2pALQzjumtH6o5XC-m61Sst7bOKEF0ufrkWUkFUQvH9nuE3R5EBsM.i1Y30YyeghtTAy2FKD0YsbDH5GCBjMffoCfryhnpoHs&dib_tag=se&keywords=galton+board+normal+distribution&qid=1722545552&sprefix=galton+distri%2Caps%2C120&sr=8-4'\n",
    "\n",
    "headers = {\"User-Agent\": \"Mozilla/5.0 (Windows NT 10.0; Win64; x64) AppleWebKit/537.36 (KHTML, like Gecko) Chrome/78.0.3904.108 Safari/537.36\", \"Accept-Encoding\":\"gzip, deflate\", \"Accept\":\"text/html,application/xhtml+xml,application/xml;q=0.9,*/*;q=0.8\", \"DNT\":\"1\",\"Connection\":\"close\", \"Upgrade-Insecure-Requests\":\"1\"}\n",
    "\n",
    "page = requests.get(URL, headers = headers)\n",
    "\n",
    "soup1 = BeautifulSoup(page.content, \"html.parser\")\n",
    "\n",
    "soup2 = BeautifulSoup(soup1.prettify(), 'html.parser')\n",
    "\n",
    "title = soup2.find(id='productTitle').get_text()\n",
    "\n",
    "price = soup2.find(id='corePrice_feature_div').get_text()\n",
    "\n",
    "availability = soup2.find(id='availability').get_text()\n",
    "\n",
    "print(title)\n",
    "print(price)\n",
    "print(availability)"
   ]
  },
  {
   "cell_type": "code",
   "execution_count": 10,
   "id": "026602c2-4ef4-4330-b748-eda82b2e4e79",
   "metadata": {},
   "outputs": [
    {
     "name": "stdout",
     "output_type": "stream",
     "text": [
      "Galton Board\n",
      "85.99\n",
      "19\n"
     ]
    }
   ],
   "source": [
    "# Clean up data\n",
    "\n",
    "price = price.strip()[1:6]\n",
    "title = title.strip()[0:12]\n",
    "availability = availability.strip()[5:7]\n",
    "print(title)\n",
    "print(price)\n",
    "print(availability)"
   ]
  },
  {
   "cell_type": "code",
   "execution_count": 13,
   "id": "8608f27d-9bd3-440d-bb2d-267b913fbd83",
   "metadata": {},
   "outputs": [
    {
     "name": "stdout",
     "output_type": "stream",
     "text": [
      "2024-08-01\n"
     ]
    }
   ],
   "source": [
    "import datetime\n",
    "today = datetime.date.today()\n",
    "print(today)"
   ]
  },
  {
   "cell_type": "code",
   "execution_count": 15,
   "id": "dd9a58d6-f5bd-46f6-8836-7387729c597e",
   "metadata": {},
   "outputs": [],
   "source": [
    "import csv\n",
    "\n",
    "header = ['Title', 'Price', 'Availability', 'Date']\n",
    "data = [title, price, availability, today]\n",
    "\n",
    "with open('AmazonWebScraperDataset.csv', 'w', newline='', encoding = 'UTF8') as f:\n",
    "    writer = csv.writer(f)\n",
    "    writer.writerow(header)\n",
    "    writer.writerow(data)\n",
    "\n"
   ]
  },
  {
   "cell_type": "code",
   "execution_count": 17,
   "id": "232dc8a9-b94e-4b31-a940-c5c7eb0ee286",
   "metadata": {},
   "outputs": [
    {
     "name": "stdout",
     "output_type": "stream",
     "text": [
      "          Title  Price  Availability        Date\n",
      "0  Galton Board  85.99            19  2024-08-01\n"
     ]
    }
   ],
   "source": [
    "import pandas as pd\n",
    "df = pd.read_csv(r'C:\\Users\\jaden\\AmazonWebScraperDataset.csv')\n",
    "print(df)"
   ]
  },
  {
   "cell_type": "code",
   "execution_count": 19,
   "id": "9a1ea20b-4787-43cf-aee8-9405354cd5e3",
   "metadata": {},
   "outputs": [],
   "source": [
    "# Appending data to csv\n",
    "\n",
    "with open('AmazonWebScraperDataset.csv', 'a+', newline='', encoding = 'UTF8') as f:\n",
    "    writer = csv.writer(f)\n",
    "    writer.writerow(data)"
   ]
  },
  {
   "cell_type": "code",
   "execution_count": 21,
   "id": "dc854a54-1fbe-4df8-af1e-2fb2f18b8c6a",
   "metadata": {},
   "outputs": [],
   "source": [
    "def check_price():\n",
    "    URL = 'https://www.amazon.com/Triangle-Distribution-Demonstration-Phenomena-Experimental/dp/B0D48M1FP4/ref=sr_1_4?crid=1VWW825AOKWV3&dib=eyJ2IjoiMSJ9.lss_sZSJB6O-eSfER8Pa4myz50eeCKwe2PLnry8Xn_SHqktseH90a0SFtO9lDxXmafMstkAiP-EtAcvORKbCrsFlXFW6el35tZKUi_6780NBF_kmyr7OTBjkD8LcZJtdpwSWLEmnLEFb3fv9etdSr_e-ud5dTMN1LlaH4OXUGAkmRkjKb5VCdjP4jrr3V3FXQK4s_Y_cGqn39-45qBOgDCa0uDYEmt9yXMGKjDBzu5swTEgTV7Pyff2pALQzjumtH6o5XC-m61Sst7bOKEF0ufrkWUkFUQvH9nuE3R5EBsM.i1Y30YyeghtTAy2FKD0YsbDH5GCBjMffoCfryhnpoHs&dib_tag=se&keywords=galton+board+normal+distribution&qid=1722545552&sprefix=galton+distri%2Caps%2C120&sr=8-4'\n",
    "\n",
    "    headers = {\"User-Agent\": \"Mozilla/5.0 (Windows NT 10.0; Win64; x64) AppleWebKit/537.36 (KHTML, like Gecko) Chrome/78.0.3904.108 Safari/537.36\", \"Accept-Encoding\":\"gzip, deflate\", \"Accept\":\"text/html,application/xhtml+xml,application/xml;q=0.9,*/*;q=0.8\", \"DNT\":\"1\",\"Connection\":\"close\", \"Upgrade-Insecure-Requests\":\"1\"}\n",
    "\n",
    "    page = requests.get(URL, headers = headers)\n",
    "\n",
    "    soup1 = BeautifulSoup(page.content, \"html.parser\")\n",
    "\n",
    "    soup2 = BeautifulSoup(soup1.prettify(), 'html.parser')\n",
    "\n",
    "    title = soup2.find(id='productTitle').get_text()\n",
    "\n",
    "    price = soup2.find(id='corePrice_feature_div').get_text()\n",
    "\n",
    "    availability = soup2.find(id='availability').get_text()\n",
    "    \n",
    "    price = price.strip()[1:6]\n",
    "    title = title.strip()[0:12]\n",
    "    availability = availability.strip()[5:7]\n",
    "\n",
    "    import datetime\n",
    "    today = datetime.date.today()\n",
    "\n",
    "    import csv\n",
    "\n",
    "    header = ['Title', 'Price', 'Availability', 'Date']\n",
    "    data = [title, price, availability, today]\n",
    "\n",
    "    with open('AmazonWebScraperDataset.csv', 'a+', newline='', encoding = 'UTF8') as f:\n",
    "        writer = csv.writer(f)\n",
    "        writer.writerow(data)\n",
    "\n",
    "    if(float(price)<50):\n",
    "        send_mail()"
   ]
  },
  {
   "cell_type": "markdown",
   "id": "738d078c-289c-4478-80cd-12244c43af5b",
   "metadata": {},
   "source": [
    "while(True):\n",
    "    check_price()\n",
    "    time.sleep(86400)"
   ]
  },
  {
   "cell_type": "code",
   "execution_count": 25,
   "id": "a42aa999-3c25-4052-b0cc-c480c690ce3d",
   "metadata": {},
   "outputs": [
    {
     "name": "stdout",
     "output_type": "stream",
     "text": [
      "          Title  Price  Availability        Date\n",
      "0  Galton Board  85.99            19  2024-08-01\n",
      "1  Galton Board  85.99            19  2024-08-01\n",
      "2  Galton Board  85.99            19  2024-08-01\n",
      "3  Galton Board  85.99            19  2024-08-01\n",
      "4  Galton Board  85.99            19  2024-08-01\n"
     ]
    }
   ],
   "source": [
    "import pandas as pd\n",
    "df = pd.read_csv(r'C:\\Users\\jaden\\AmazonWebScraperDataset.csv')\n",
    "print(df)"
   ]
  },
  {
   "cell_type": "code",
   "execution_count": 29,
   "id": "05350226-02ad-4168-a652-f698e177ce07",
   "metadata": {},
   "outputs": [],
   "source": [
    "# Send email when price hits below a certain amount\n",
    "def send_mail():\n",
    "    server = smtplib.SMTP_SSL('smtp.gmail.com',465)\n",
    "    server.ehlo()\n",
    "    #server.starttls()\n",
    "    server.ehlo()\n",
    "    server.login('jadenlam3151@gmail.com','xxxxxxxxxxxxxx')\n",
    "    \n",
    "    subject = \"Galton Board Price Drop!\"\n",
    "    body = \"The Galton Board you wanted to buy has dropped below $50! Link here: https://www.amazon.com/Triangle-Distribution-Demonstration-Phenomena-Experimental/dp/B0D48M1FP4/ref=sr_1_4?crid=1VWW825AOKWV3&dib=eyJ2IjoiMSJ9.lss_sZSJB6O-eSfER8Pa4myz50eeCKwe2PLnry8Xn_SHqktseH90a0SFtO9lDxXmafMstkAiP-EtAcvORKbCrsFlXFW6el35tZKUi_6780NBF_kmyr7OTBjkD8LcZJtdpwSWLEmnLEFb3fv9etdSr_e-ud5dTMN1LlaH4OXUGAkmRkjKb5VCdjP4jrr3V3FXQK4s_Y_cGqn39-45qBOgDCa0uDYEmt9yXMGKjDBzu5swTEgTV7Pyff2pALQzjumtH6o5XC-m61Sst7bOKEF0ufrkWUkFUQvH9nuE3R5EBsM.i1Y30YyeghtTAy2FKD0YsbDH5GCBjMffoCfryhnpoHs&dib_tag=se&keywords=galton+board+normal+distribution&qid=1722545552&sprefix=galton+distri%2Caps%2C120&sr=8-4\"\n",
    "   \n",
    "    msg = f\"Subject: {subject}\\n\\n{body}\"\n",
    "    \n",
    "    server.sendmail(\n",
    "        'jadenlam3151@gmail.com',\n",
    "        msg\n",
    "    )"
   ]
  },
  {
   "cell_type": "code",
   "execution_count": null,
   "id": "a3e6714d-a922-4ac9-8d03-9a9efe1e5ea5",
   "metadata": {},
   "outputs": [],
   "source": []
  }
 ],
 "metadata": {
  "kernelspec": {
   "display_name": "Python 3 (ipykernel)",
   "language": "python",
   "name": "python3"
  },
  "language_info": {
   "codemirror_mode": {
    "name": "ipython",
    "version": 3
   },
   "file_extension": ".py",
   "mimetype": "text/x-python",
   "name": "python",
   "nbconvert_exporter": "python",
   "pygments_lexer": "ipython3",
   "version": "3.12.4"
  }
 },
 "nbformat": 4,
 "nbformat_minor": 5
}
